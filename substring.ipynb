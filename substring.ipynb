{
 "cells": [
  {
   "cell_type": "code",
   "execution_count": 1,
   "id": "78bf437d-2a87-460b-b712-6a61481c451e",
   "metadata": {},
   "outputs": [
    {
     "name": "stdout",
     "output_type": "stream",
     "text": [
      "6\n"
     ]
    }
   ],
   "source": [
    "def subString(a):\n",
    "    a = list(set(a))\n",
    "    a = ''.join(a)\n",
    "    t = []\n",
    "    n = len(a)\n",
    "    for i in range(n):\n",
    "        for k in range(i+1,n+1):\n",
    "            t.append(a[i: k])\n",
    "    print(len(t))\n",
    "s = \"aabc\"\n",
    "subString(s)"
   ]
  },
  {
   "cell_type": "code",
   "execution_count": null,
   "id": "0a02b6b7-f012-4758-94e3-7ac376a02829",
   "metadata": {},
   "outputs": [],
   "source": []
  }
 ],
 "metadata": {
  "kernelspec": {
   "display_name": "Python 3 (ipykernel)",
   "language": "python",
   "name": "python3"
  },
  "language_info": {
   "codemirror_mode": {
    "name": "ipython",
    "version": 3
   },
   "file_extension": ".py",
   "mimetype": "text/x-python",
   "name": "python",
   "nbconvert_exporter": "python",
   "pygments_lexer": "ipython3",
   "version": "3.10.7"
  }
 },
 "nbformat": 4,
 "nbformat_minor": 5
}
