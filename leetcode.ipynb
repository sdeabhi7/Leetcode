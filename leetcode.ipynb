{
 "cells": [
  {
   "cell_type": "code",
   "execution_count": 1,
   "id": "421feaa9-ccbf-48dc-a14a-79a804b62c32",
   "metadata": {},
   "outputs": [
    {
     "name": "stdout",
     "output_type": "stream",
     "text": [
      "1 2\n"
     ]
    }
   ],
   "source": [
    "def twosum(nums, target):\n",
    "    for i in range(len(nums) - 1):\n",
    "        for j in range(i + 1, len(nums)):\n",
    "            if nums[i] + nums[j] == target:\n",
    "                print(i,j)\n",
    "nums = [3,2,4]\n",
    "target = 6\n",
    "twosum(nums, target)"
   ]
  },
  {
   "cell_type": "markdown",
   "id": "d72ea89f-c577-492d-a418-2ff0445dba62",
   "metadata": {
    "tags": []
   },
   "source": [
    "n = len(nums)\n",
    "def single_element_sorted_list(nums):\n",
    "    n = len(nums)\n",
    "    for i in range(0,len(nums),2):\n",
    "        if i == n-1:\n",
    "            print(nums[i])\n",
    "            break\n",
    "        if nums[i] != nums[i+1]:\n",
    "            print(nums[i])\n",
    "            break\n",
    "\n",
    "nums = [1,1,2,2,3,3,4,4,8]\n",
    "single_element_sorted_list(nums)"
   ]
  },
  {
   "cell_type": "code",
   "execution_count": 4,
   "id": "059602ff-a801-49d2-b643-34a2c2424947",
   "metadata": {},
   "outputs": [],
   "source": [
    "string = 'abcdefg'\n",
    "n = 2\n",
    "k = string[0:2]\n",
    "k = k[::-1]\n",
    "k = k + string[n:]"
   ]
  },
  {
   "cell_type": "code",
   "execution_count": 5,
   "id": "ecccb94d-5f24-418f-a068-271078fea246",
   "metadata": {},
   "outputs": [
    {
     "data": {
      "text/plain": [
       "'bacdefg'"
      ]
     },
     "execution_count": 5,
     "metadata": {},
     "output_type": "execute_result"
    }
   ],
   "source": [
    "k"
   ]
  },
  {
   "cell_type": "code",
   "execution_count": 6,
   "id": "a8056093-655e-4e5a-8ed8-fefc38368318",
   "metadata": {},
   "outputs": [],
   "source": [
    "def findMeditemportedArrays(nums1, nums2):\n",
    "    total = nums1 + nums2\n",
    "    total.sort()\n",
    "    if len(total)%2 == 0:\n",
    "        i = int(len(total)/2)\n",
    "        return (total[i] + total[i-1])/2\n",
    "    else:\n",
    "        i = int(len(total)/2)\n",
    "        return total[i]"
   ]
  },
  {
   "cell_type": "code",
   "execution_count": 7,
   "id": "97b349a2-384e-4195-8d21-ca2ac50ed766",
   "metadata": {},
   "outputs": [],
   "source": [
    "def reverse(x):\n",
    "    d = str(x)\n",
    "    if d[0] == '-':\n",
    "        t = int('-'+d[1:len(d)][::-1])\n",
    "    else:\n",
    "        t = int(d[::-1])\n",
    "    if t >= 2**31-1 or t <= -2**31:\n",
    "        return 0\n",
    "    else:\n",
    "        return t"
   ]
  },
  {
   "cell_type": "code",
   "execution_count": 8,
   "id": "5a29cbff-2dd8-4d3e-a755-56b4a133b102",
   "metadata": {},
   "outputs": [
    {
     "name": "stdout",
     "output_type": "stream",
     "text": [
      "apple\n"
     ]
    }
   ],
   "source": [
    "fruits = ['apple', 'banana', 'grapes', 'orange']\n",
    "total = filter(lambda n: len(n)<6, fruits)\n",
    "for i in total:\n",
    "    print(i)"
   ]
  },
  {
   "cell_type": "code",
   "execution_count": 9,
   "id": "83d5908f-e14d-4b8d-bd76-b14a457b642d",
   "metadata": {
    "tags": []
   },
   "outputs": [
    {
     "data": {
      "text/plain": [
       "2"
      ]
     },
     "execution_count": 9,
     "metadata": {},
     "output_type": "execute_result"
    }
   ],
   "source": [
    "haystack = \"hello\"\n",
    "needle = \"ll\"\n",
    "def strStr(haystack, needle):\n",
    "    k = len(needle)\n",
    "    for i in range(len(haystack)):\n",
    "        if haystack[i:i+k] == needle:\n",
    "            return i\n",
    "    else:\n",
    "        return -1\n",
    "strStr(haystack,needle)"
   ]
  },
  {
   "cell_type": "code",
   "execution_count": 10,
   "id": "bb5a847b-ebf4-4eec-9361-44907d4fe53f",
   "metadata": {},
   "outputs": [
    {
     "data": {
      "text/plain": [
       "False"
      ]
     },
     "execution_count": 10,
     "metadata": {},
     "output_type": "execute_result"
    }
   ],
   "source": [
    "def isMatch(s, p):\n",
    "    flag = False\n",
    "    if s == p or p == '*':\n",
    "        flag = True\n",
    "    else:\n",
    "        for i in s:\n",
    "            for j in p:\n",
    "                if j == '*':\n",
    "                    # flag = True\n",
    "                    continue\n",
    "                    if i == j or i == '?':\n",
    "                        flag = True\n",
    "                    \n",
    "                elif len(s) != len(p):\n",
    "                    break \n",
    "    return flag\n",
    "isMatch('acdcb', 'a*c?b')"
   ]
  },
  {
   "cell_type": "code",
   "execution_count": 11,
   "id": "e37b8169-2a0b-4b49-bf0d-2dbd0b4d044c",
   "metadata": {},
   "outputs": [
    {
     "data": {
      "text/plain": [
       "True"
      ]
     },
     "execution_count": 11,
     "metadata": {},
     "output_type": "execute_result"
    }
   ],
   "source": [
    "isMatch('aa','*')"
   ]
  },
  {
   "cell_type": "code",
   "execution_count": 12,
   "id": "427bb5c0-ed3e-4062-bd76-6ae659d992df",
   "metadata": {},
   "outputs": [
    {
     "data": {
      "text/plain": [
       "False"
      ]
     },
     "execution_count": 12,
     "metadata": {},
     "output_type": "execute_result"
    }
   ],
   "source": [
    "isMatch('adceb','*a*b')"
   ]
  },
  {
   "cell_type": "code",
   "execution_count": 13,
   "id": "904fa5ad-7080-4859-a135-1cfb46862931",
   "metadata": {},
   "outputs": [
    {
     "data": {
      "text/plain": [
       "298023223876953125"
      ]
     },
     "execution_count": 13,
     "metadata": {},
     "output_type": "execute_result"
    }
   ],
   "source": [
    "def myPow(x, n):\n",
    "    return x**n\n",
    "myPow(5,25)"
   ]
  },
  {
   "cell_type": "code",
   "execution_count": 14,
   "id": "0e916639-b345-46f7-ad36-22feeb8aa582",
   "metadata": {},
   "outputs": [],
   "source": [
    "def isPalindrome(self, x: int) -> bool:\n",
    "        x = str(x)\n",
    "        t = x[::-1]\n",
    "        if t == x:\n",
    "            return True\n",
    "        return False"
   ]
  },
  {
   "cell_type": "code",
   "execution_count": 15,
   "id": "dd4649ee-a59a-452f-935a-824bfcb58652",
   "metadata": {},
   "outputs": [
    {
     "data": {
      "text/plain": [
       "([0, 1, 3, 0, 4], 5)"
      ]
     },
     "execution_count": 15,
     "metadata": {},
     "output_type": "execute_result"
    }
   ],
   "source": [
    "def removeElement(nums, val):\n",
    "    # return list(set(nums)), len(list(set(nums)))\n",
    "    k = nums.count(val)\n",
    "    for i in range(k):\n",
    "        nums.remove(val)\n",
    "    return nums, len(nums)\n",
    "removeElement([0,1,2,2,2,2,2,2,2,3,0,4,2],2)"
   ]
  },
  {
   "cell_type": "code",
   "execution_count": 16,
   "id": "ea8fa55d-ee6e-40d8-ac8a-d9f3bd15102c",
   "metadata": {},
   "outputs": [
    {
     "name": "stdout",
     "output_type": "stream",
     "text": [
      "set()\n",
      "start 1 char_set {'b'}\n",
      "start 2 char_set {'a'}\n",
      "start 3 char_set {'b'}\n",
      "start 4 char_set {'a'}\n",
      "start 5 char_set {'b'}\n",
      "start 6 char_set {'a'}\n",
      "start 7 char_set {'b'}\n"
     ]
    },
    {
     "data": {
      "text/plain": [
       "2"
      ]
     },
     "execution_count": 16,
     "metadata": {},
     "output_type": "execute_result"
    }
   ],
   "source": [
    "def lengthOfLongestSubstring(s):\n",
    "        char_set = set()\n",
    "        print(char_set)\n",
    "        max_len, start = 0, 0\n",
    "        for i, c in enumerate(s):\n",
    "            while c in char_set:\n",
    "                char_set.remove(s[start])\n",
    "                start += 1\n",
    "                print('start', start, 'char_set', char_set)\n",
    "            char_set.add(c)\n",
    "            max_len = max(max_len, i - start + 1)\n",
    "        return max_len\n",
    "    \n",
    "lengthOfLongestSubstring('ababababa')"
   ]
  },
  {
   "cell_type": "code",
   "execution_count": 17,
   "id": "8efc07fb-290b-4f32-960c-24d507886046",
   "metadata": {},
   "outputs": [],
   "source": [
    "a = 'abc'.join('def')"
   ]
  },
  {
   "cell_type": "code",
   "execution_count": 18,
   "id": "c8a5e299-3da2-468b-813e-6e365a25496d",
   "metadata": {},
   "outputs": [
    {
     "data": {
      "text/plain": [
       "'dabceabcf'"
      ]
     },
     "execution_count": 18,
     "metadata": {},
     "output_type": "execute_result"
    }
   ],
   "source": [
    "a"
   ]
  },
  {
   "cell_type": "code",
   "execution_count": 19,
   "id": "8ae9e4b0-a561-4653-8e23-67dc15e33118",
   "metadata": {},
   "outputs": [],
   "source": [
    "b = 'abc' 'def'"
   ]
  },
  {
   "cell_type": "code",
   "execution_count": 20,
   "id": "98175d4e-4817-4b3c-af20-f7ada1b57311",
   "metadata": {},
   "outputs": [
    {
     "data": {
      "text/plain": [
       "'abcdef'"
      ]
     },
     "execution_count": 20,
     "metadata": {},
     "output_type": "execute_result"
    }
   ],
   "source": [
    "b"
   ]
  },
  {
   "cell_type": "code",
   "execution_count": 21,
   "id": "912eb705-89d9-45fb-8ab9-533b377eae44",
   "metadata": {},
   "outputs": [],
   "source": [
    "d = 'abc' \\\n",
    "'def'"
   ]
  },
  {
   "cell_type": "code",
   "execution_count": 22,
   "id": "1e1ddb12-a6d5-4dff-b2f5-f35141a4ee8d",
   "metadata": {},
   "outputs": [
    {
     "data": {
      "text/plain": [
       "'abcdef'"
      ]
     },
     "execution_count": 22,
     "metadata": {},
     "output_type": "execute_result"
    }
   ],
   "source": [
    "d"
   ]
  },
  {
   "cell_type": "code",
   "execution_count": 23,
   "id": "2bc07eb7-b3ce-491f-ae19-a0f04f006e2e",
   "metadata": {},
   "outputs": [],
   "source": [
    "m = 'abc' + R'def'"
   ]
  },
  {
   "cell_type": "code",
   "execution_count": 24,
   "id": "d338bb4f-46b8-4c5c-9405-9241435b4284",
   "metadata": {},
   "outputs": [
    {
     "data": {
      "text/plain": [
       "'abcdef'"
      ]
     },
     "execution_count": 24,
     "metadata": {},
     "output_type": "execute_result"
    }
   ],
   "source": [
    "m"
   ]
  },
  {
   "cell_type": "code",
   "execution_count": 25,
   "id": "e36ebff8-c176-42cc-8952-7f7b153ddf8f",
   "metadata": {},
   "outputs": [
    {
     "data": {
      "text/plain": [
       "9"
      ]
     },
     "execution_count": 25,
     "metadata": {},
     "output_type": "execute_result"
    }
   ],
   "source": [
    "def zeroFilledSubarray(nums):\n",
    "    present = 0\n",
    "    total = 0\n",
    "    for i in nums:\n",
    "        if i == 0:\n",
    "            present += 1\n",
    "            total += present\n",
    "        else:\n",
    "            present = 0\n",
    "    return total\n",
    "zeroFilledSubarray([0,0,0,2,0,0])"
   ]
  },
  {
   "cell_type": "code",
   "execution_count": 26,
   "id": "c61582db-23d7-45dc-8b0a-f00b5b360dc4",
   "metadata": {},
   "outputs": [
    {
     "data": {
      "text/plain": [
       "3"
      ]
     },
     "execution_count": 26,
     "metadata": {},
     "output_type": "execute_result"
    }
   ],
   "source": [
    "def lengthOfLongestSubstring(s):\n",
    "    sub_string = []\n",
    "    t = []\n",
    "    length = len(s)\n",
    "    if length == 0:\n",
    "        return ''\n",
    "    elif length == 1:\n",
    "        return len(s)\n",
    "    else:\n",
    "        for i in range(len(s)):\n",
    "            for j in range(i+1,len(s)):\n",
    "                sub_string.append(s[i:j+1])\n",
    "        sub_string.sort()\n",
    "        sub_string = sub_string[::-1]\n",
    "        for i in sub_string:\n",
    "            k = ''\n",
    "            for j in i:\n",
    "                if j in k:\n",
    "                    break\n",
    "                else:\n",
    "                    k += j\n",
    "            t.append(len(k))\n",
    "        t.sort()\n",
    "        return t[::-1][0]\n",
    "lengthOfLongestSubstring('pwwkew')"
   ]
  },
  {
   "cell_type": "code",
   "execution_count": 27,
   "id": "884a8c27-e88a-438c-bfb6-748afa93fba9",
   "metadata": {},
   "outputs": [
    {
     "data": {
      "text/plain": [
       "'AIW'"
      ]
     },
     "execution_count": 27,
     "metadata": {},
     "output_type": "execute_result"
    }
   ],
   "source": [
    "def acronym(s):\n",
    "    acrm = ''\n",
    "    s = s.split()\n",
    "    for i in s:\n",
    "        acrm += i[0].upper()\n",
    "    return acrm\n",
    "\n",
    "acronym('all is well')"
   ]
  },
  {
   "cell_type": "code",
   "execution_count": 28,
   "id": "a1e494b5-e282-4b0b-9b9e-be4d8616dcea",
   "metadata": {},
   "outputs": [
    {
     "data": {
      "text/plain": [
       "False"
      ]
     },
     "execution_count": 28,
     "metadata": {},
     "output_type": "execute_result"
    }
   ],
   "source": [
    "def checkRecord(s):\n",
    "    s = s.upper()\n",
    "    if 'LLL' in s or s.count('A') >= 2:\n",
    "        return False\n",
    "    return True\n",
    "\n",
    "checkRecord('paalp')"
   ]
  },
  {
   "cell_type": "code",
   "execution_count": 29,
   "id": "8b9bfa7c-86f2-4afd-ab18-e74070a19389",
   "metadata": {},
   "outputs": [
    {
     "data": {
      "text/plain": [
       "'fl'"
      ]
     },
     "execution_count": 29,
     "metadata": {},
     "output_type": "execute_result"
    }
   ],
   "source": [
    "def longestCommonPrefix(strs):\n",
    "    temp=\"\"\n",
    "    t=sorted(strs)\n",
    "    first=t[0]\n",
    "    last=t[-1]        \n",
    "    for i in range(min(len(first),len(last))):\n",
    "        if(first[i]!=last[i]):\n",
    "            return temp\n",
    "        temp+=first[i]\n",
    "    return temp \n",
    "strs = [\"flower\",\"flow\",\"flight\"]\n",
    "longestCommonPrefix(strs)"
   ]
  },
  {
   "cell_type": "code",
   "execution_count": 30,
   "id": "2652d1cf-b74b-4cb6-ac1e-6ce9a42b45ff",
   "metadata": {},
   "outputs": [
    {
     "name": "stdout",
     "output_type": "stream",
     "text": [
      "-1 0 0\n",
      "-1 1 0\n",
      "0 -1 0\n",
      "0 1 0\n",
      "0 1 0\n",
      "0 -1 0\n",
      "1 -1 0\n",
      "1 0 0\n",
      "1 0 0\n",
      "1 -1 0\n",
      "-1 0 0\n",
      "-1 1 0\n"
     ]
    }
   ],
   "source": [
    "nums = [-1,0,1,2,-1,-4]\n",
    "temp = []\n",
    "for i in nums:\n",
    "    for j in nums:\n",
    "        for k in nums:\n",
    "            if (i!=j and j!=k and k!=i):\n",
    "                k = i+j+k\n",
    "                if k == 0:\n",
    "                    print(i,j,k)"
   ]
  },
  {
   "cell_type": "code",
   "execution_count": 31,
   "id": "d1d397a6-91f4-4187-8331-5edcb394f817",
   "metadata": {},
   "outputs": [
    {
     "name": "stdout",
     "output_type": "stream",
     "text": [
      "[ -1 , 0 , 0 ]\n",
      "[ -1 , 1 , 0 ]\n",
      "[ 0 , -1 , 0 ]\n",
      "[ 0 , 1 , 0 ]\n",
      "[ 0 , 1 , 0 ]\n",
      "[ 0 , -1 , 0 ]\n",
      "[ 1 , -1 , 0 ]\n",
      "[ 1 , 0 , 0 ]\n",
      "[ 1 , 0 , 0 ]\n",
      "[ 1 , -1 , 0 ]\n",
      "[ -1 , 0 , 0 ]\n",
      "[ -1 , 1 , 0 ]\n"
     ]
    }
   ],
   "source": [
    "nums = [-1,0,1,2,-1,-4]\n",
    "temp = []\n",
    "for i in nums:\n",
    "    for j in nums:\n",
    "        for k in nums:\n",
    "            if i!=j:\n",
    "                temp.append(i)\n",
    "                if j!=k:\n",
    "                    temp.append(j)\n",
    "                    if k!=i:\n",
    "                        temp.append(k)\n",
    "                        k = i+j+k\n",
    "                        if k == 0:\n",
    "                            print('[',i,',',j,',',k,']')"
   ]
  },
  {
   "cell_type": "code",
   "execution_count": 32,
   "id": "5d0a9335-6176-41e9-8c5f-c414936d3836",
   "metadata": {},
   "outputs": [
    {
     "name": "stdout",
     "output_type": "stream",
     "text": [
      "[[-1, 0, 1], [-1, -1, 2]]\n"
     ]
    }
   ],
   "source": [
    "from itertools import combinations\n",
    "L = [-1,0,1,2,-1,-4]\n",
    "li = []\n",
    "k = []\n",
    "for comb in combinations(L,3):\n",
    "    if sum(list(comb)) == 0:\n",
    "        comb = list(comb)\n",
    "        comb.sort()\n",
    "        li.append(list(comb))  \n",
    "for i in li:\n",
    "    if i not in k:\n",
    "        k.append(i)\n",
    "print(k)"
   ]
  },
  {
   "cell_type": "code",
   "execution_count": 33,
   "id": "61eac0a2-479b-43b7-9ac0-0e0e5fe74436",
   "metadata": {
    "tags": []
   },
   "outputs": [
    {
     "name": "stdout",
     "output_type": "stream",
     "text": [
      "29\n"
     ]
    }
   ],
   "source": [
    "array = [2,4,9,8,6,-9,-2,9,-9,8]\n",
    "\n",
    "max_so_far = 0\n",
    "max_ending_here = 0\n",
    "\n",
    "for i in array:\n",
    "    max_ending_here = max(max_ending_here + i, 0)\n",
    "    max_so_far = max(max_so_far, max_ending_here)\n",
    "\n",
    "print(max_so_far)"
   ]
  },
  {
   "cell_type": "code",
   "execution_count": 34,
   "id": "f89bdd96-0f74-4def-ae14-62ac6e8ceacc",
   "metadata": {},
   "outputs": [
    {
     "data": {
      "text/plain": [
       "5"
      ]
     },
     "execution_count": 34,
     "metadata": {},
     "output_type": "execute_result"
    }
   ],
   "source": [
    "nums = [3,2,1,5,6,4] \n",
    "k = 2\n",
    "def findKthLargest(nums, k):\n",
    "    nums.sort(reverse=True)\n",
    "    return nums[k-1]\n",
    "findKthLargest([3,2,1,5,6,4],2)"
   ]
  },
  {
   "cell_type": "code",
   "execution_count": 35,
   "id": "702236c1-8de0-4892-adf5-bbfac962e686",
   "metadata": {},
   "outputs": [
    {
     "data": {
      "text/plain": [
       "True"
      ]
     },
     "execution_count": 35,
     "metadata": {},
     "output_type": "execute_result"
    }
   ],
   "source": [
    "nums = [1,2,3,1] \n",
    "indexDiff = 3 \n",
    "valueDiff = 0\n",
    "\n",
    "# nums = [1,5,9,1,5,9]\n",
    "# indexDiff = 2\n",
    "# valueDiff = 3\n",
    "\n",
    "def containsNearbyAlmostDuplicate(nums, indexDiff, valueDiff):\n",
    "    bool = False\n",
    "    for i in range(len(nums)):\n",
    "        for j in range(i+1,len(nums)):\n",
    "            if i!=j:\n",
    "                if abs(i-j) <= indexDiff:\n",
    "                    if abs(nums[i] - nums[j]) <= valueDiff:\n",
    "                        bool = True\n",
    "                        break\n",
    "    return bool\n",
    "\n",
    "containsNearbyAlmostDuplicate(nums, indexDiff, valueDiff)"
   ]
  },
  {
   "cell_type": "code",
   "execution_count": 36,
   "id": "06da3c7c-60ef-4382-a9c0-b1c21b24d906",
   "metadata": {},
   "outputs": [
    {
     "data": {
      "text/plain": [
       "2500.0"
      ]
     },
     "execution_count": 36,
     "metadata": {},
     "output_type": "execute_result"
    }
   ],
   "source": [
    "def average(salary):\n",
    "    length = len(salary)\n",
    "    if length >= 3 and length <= 100:\n",
    "        salary.sort()\n",
    "        total = sum(salary) - (salary[0] + salary[-1])\n",
    "        t = length - 2\n",
    "        return total/t    \n",
    "    \n",
    "average([4000,3000,1000,2000])"
   ]
  },
  {
   "cell_type": "code",
   "execution_count": 37,
   "id": "5358346c-379b-4004-ae9e-16b90cbd887b",
   "metadata": {},
   "outputs": [
    {
     "data": {
      "text/plain": [
       "10331"
      ]
     },
     "execution_count": 37,
     "metadata": {},
     "output_type": "execute_result"
    }
   ],
   "source": [
    "def subtractProductAndSum(n):\n",
    "    produt = 1\n",
    "    su = 0\n",
    "    while n != 0:\n",
    "        k = n % 10\n",
    "        n = n//10\n",
    "        produt = produt * k\n",
    "        su += k\n",
    "\n",
    "    return produt - su\n",
    "\n",
    "subtractProductAndSum(129889)"
   ]
  },
  {
   "cell_type": "code",
   "execution_count": 38,
   "id": "2a1c6ec5-5a4c-414b-9e52-afe3afadfdbb",
   "metadata": {},
   "outputs": [
    {
     "data": {
      "text/plain": [
       "1"
      ]
     },
     "execution_count": 38,
     "metadata": {},
     "output_type": "execute_result"
    }
   ],
   "source": [
    "def arraySign(nums):\n",
    "    t = 1\n",
    "    for i in range(len(nums)):\n",
    "        if i < len(nums):\n",
    "            t = t*nums[i]\n",
    "    if t > 0:\n",
    "        return 1\n",
    "    if t < 0:\n",
    "        return -1\n",
    "    if t == 0:\n",
    "        return 0\n",
    "arraySign([-1,-2,-3,-4,3,2,1])"
   ]
  },
  {
   "cell_type": "code",
   "execution_count": 39,
   "id": "179972e2-d595-4900-b926-0a3213bf910b",
   "metadata": {},
   "outputs": [
    {
     "data": {
      "text/plain": [
       "True"
      ]
     },
     "execution_count": 39,
     "metadata": {},
     "output_type": "execute_result"
    }
   ],
   "source": [
    "def canMakeArithmeticProgression(arr):\n",
    "    arr.sort()\n",
    "    t = 0\n",
    "    k = arr[0] - arr[1]\n",
    "    for i in range(1,len(arr)):\n",
    "        if i < len(arr)-1:\n",
    "            if arr[i] - arr[i+1] == k:\n",
    "                t += 1\n",
    "    if t == len(arr) -2:\n",
    "        return True\n",
    "    return(False)\n",
    "canMakeArithmeticProgression([3,5,1])"
   ]
  },
  {
   "cell_type": "code",
   "execution_count": 40,
   "id": "b8b99ade-1a54-4fc6-9933-80eb6f9a6fc9",
   "metadata": {},
   "outputs": [
    {
     "name": "stdout",
     "output_type": "stream",
     "text": [
      "True\n"
     ]
    }
   ],
   "source": [
    "s1 = \"bank\"\n",
    "s2 = \"kanb\"\n",
    "\n",
    "# s1 = \"attack\"\n",
    "# s2 = \"defend\"\n",
    "\n",
    "if len(s1) != len(s2):\n",
    "    print(False)\n",
    "if s1==s2:\n",
    "    print(True)\n",
    "s1 = list(s1)\n",
    "s2 = list(s2)\n",
    "s1.sort()\n",
    "s2.sort()\n",
    "total = 0\n",
    "t = len(s1)\n",
    "for i in range(t):\n",
    "    if s1.count(s1[i]) == s2.count(s2[i]):\n",
    "        total += 1\n",
    "if total == t:\n",
    "    print(True)\n",
    "else:\n",
    "    print(False)"
   ]
  },
  {
   "cell_type": "code",
   "execution_count": 41,
   "id": "cf1e01cf-9275-4162-9100-58378c1b8454",
   "metadata": {},
   "outputs": [
    {
     "name": "stdout",
     "output_type": "stream",
     "text": [
      "True\n"
     ]
    }
   ],
   "source": [
    "s1 = \"bank\"\n",
    "s2 = \"kanb\"\n",
    "\n",
    "if len(s1) != len(s2):\n",
    "    print(False)\n",
    "if s1==s2:\n",
    "    print(True)\n",
    "s1 = list(s1)\n",
    "s2 = list(s2)\n",
    "s1.sort()\n",
    "s2.sort()\n",
    "total = 0\n",
    "t = len(s1)\n",
    "for i in range(t):\n",
    "    if s1.count(s1[i]) == s2.count(s2[i]):\n",
    "        total += 1\n",
    "if total == t:\n",
    "    print(True)\n",
    "else:\n",
    "    print(False)"
   ]
  },
  {
   "cell_type": "code",
   "execution_count": 42,
   "id": "a720ce38-3dc4-48b1-a019-11d292224064",
   "metadata": {},
   "outputs": [
    {
     "data": {
      "text/plain": [
       "6"
      ]
     },
     "execution_count": 42,
     "metadata": {},
     "output_type": "execute_result"
    }
   ],
   "source": [
    "def search(nums, target):\n",
    "    for i in range(len(nums)):\n",
    "        if nums[i] == target:\n",
    "            return i\n",
    "            break\n",
    "    else:\n",
    "        return -1\n",
    "search([4,5,6,7,0,1,2],2)"
   ]
  },
  {
   "cell_type": "code",
   "execution_count": 43,
   "id": "8b3d61ae-b81a-40bb-9202-411157e649f9",
   "metadata": {},
   "outputs": [
    {
     "data": {
      "text/plain": [
       "[3, 4]"
      ]
     },
     "execution_count": 43,
     "metadata": {},
     "output_type": "execute_result"
    }
   ],
   "source": [
    "def searchRange(nums, target):\n",
    "    if target not in nums:\n",
    "        return [-1,-1]\n",
    "    k = []\n",
    "    for i in range(len(nums)):\n",
    "        if nums[i] == target:\n",
    "            k.append(i)\n",
    "    return [k[0],k[-1]]\n",
    "searchRange([5,7,7,8,8,10],8)"
   ]
  },
  {
   "cell_type": "code",
   "execution_count": 44,
   "id": "1d657f89-2526-4d42-8b45-9eac9353be33",
   "metadata": {},
   "outputs": [
    {
     "data": {
      "text/plain": [
       "4"
      ]
     },
     "execution_count": 44,
     "metadata": {},
     "output_type": "execute_result"
    }
   ],
   "source": [
    "def searchInsert(nums, target):\n",
    "    t = 0\n",
    "    for i in range(len(nums)):\n",
    "        if nums[i] == target:\n",
    "            return i\n",
    "            break\n",
    "        elif target > nums[len(nums)-1]:\n",
    "            return len(nums)\n",
    "            break\n",
    "        elif target < nums[i]:\n",
    "            return i\n",
    "            break\n",
    "searchInsert([1,3,5,6], 9)"
   ]
  },
  {
   "cell_type": "code",
   "execution_count": 45,
   "id": "0a0d0fbe-1d0b-4f6a-85e4-b4b93651b020",
   "metadata": {},
   "outputs": [
    {
     "data": {
      "text/plain": [
       "(0, 1)"
      ]
     },
     "execution_count": 45,
     "metadata": {},
     "output_type": "execute_result"
    }
   ],
   "source": [
    "def indexsum(nums, target):\n",
    "    for i in range(len(nums)):\n",
    "        k = target - nums[i]\n",
    "        if k in nums:\n",
    "            return i, nums.index(k)\n",
    "            break\n",
    "    return -1\n",
    "indexsum([2,4,6,8], 6)"
   ]
  },
  {
   "cell_type": "code",
   "execution_count": 46,
   "id": "9f4e49db-795c-4c24-a034-dc9a5e673b11",
   "metadata": {},
   "outputs": [
    {
     "data": {
      "text/plain": [
       "2"
      ]
     },
     "execution_count": 46,
     "metadata": {},
     "output_type": "execute_result"
    }
   ],
   "source": [
    "def kthFactor(n,k):\n",
    "    y = []\n",
    "    for i in range(1,n+1):\n",
    "        if n%i==0:\n",
    "            y.append(i)\n",
    "    if len(y) >= k:\n",
    "        return y[k-1]\n",
    "    return -1\n",
    "kthFactor(6,2)"
   ]
  },
  {
   "cell_type": "code",
   "execution_count": 47,
   "id": "40f6d8b1-267c-4757-a71b-80b0b8576293",
   "metadata": {},
   "outputs": [
    {
     "data": {
      "text/plain": [
       "26"
      ]
     },
     "execution_count": 47,
     "metadata": {},
     "output_type": "execute_result"
    }
   ],
   "source": [
    "# Given a square matrix mat, return the sum of the matrix diagonals.\n",
    "# Only include the sum of all the elements on the primary diagonal and all the elements on the secondary diagonal that are not part of the primary diagonal.\n",
    "\n",
    "def diagonalSum(mat):\n",
    "    # mat = [[1,2,3], [4,5,6], [7,8,9]]\n",
    "    m = len(mat)\n",
    "    n = len(mat[0])\n",
    "    k = []\n",
    "    for i in range(m):\n",
    "        for j in range(n):\n",
    "            if i == j:\n",
    "                k.append(mat[i][j])\n",
    "            if i+j == m-1:\n",
    "                k.append(mat[i][j])\n",
    "    t = sum(k)\n",
    "    if m%2==1:\n",
    "        t -= mat[m//2][n//2]\n",
    "        return t\n",
    "    else:\n",
    "        return t\n",
    "\n",
    "diagonalSum([[1,2,3], [4,6,6], [7,8,9]])"
   ]
  },
  {
   "cell_type": "code",
   "execution_count": 48,
   "id": "93f40b56-23c2-44f9-a09a-59f3233a938f",
   "metadata": {},
   "outputs": [
    {
     "data": {
      "text/plain": [
       "2"
      ]
     },
     "execution_count": 48,
     "metadata": {},
     "output_type": "execute_result"
    }
   ],
   "source": [
    "def removeDuplicates(nums):\n",
    "    nums = list(set(nums))\n",
    "    k = len(nums)\n",
    "    return k\n",
    "removeDuplicates([1,1,2])"
   ]
  },
  {
   "cell_type": "code",
   "execution_count": 49,
   "id": "93c5e1b1-52d2-481e-87af-c76399404077",
   "metadata": {},
   "outputs": [],
   "source": [
    "nums = [1,1,2]\n",
    "k = sorted(set(nums))\n",
    "nums = k"
   ]
  },
  {
   "cell_type": "code",
   "execution_count": 3,
   "id": "a07a4ba7-e526-4359-865c-ca0717a7b1c0",
   "metadata": {},
   "outputs": [
    {
     "name": "stdout",
     "output_type": "stream",
     "text": [
      "you? are how World, Hello\n"
     ]
    }
   ],
   "source": [
    "def reverse_words(string):\n",
    "    words = string.split()\n",
    "    words.reverse()\n",
    "    reversed_string = ' '.join(words)\n",
    "    return reversed_string\n",
    "\n",
    "input_string = \"Hello World, how are you?\"\n",
    "output_string = reverse_words(input_string)\n",
    "print(output_string)"
   ]
  },
  {
   "cell_type": "code",
   "execution_count": 30,
   "id": "9ff9c38d-6f2b-40e5-be11-82fa99faced4",
   "metadata": {},
   "outputs": [
    {
     "name": "stdout",
     "output_type": "stream",
     "text": [
      "i 0\n",
      "j 0\n",
      "i 0\n",
      "j 1\n",
      "i 1\n",
      "j 1\n"
     ]
    },
    {
     "data": {
      "text/plain": [
       "'b'"
      ]
     },
     "execution_count": 30,
     "metadata": {},
     "output_type": "execute_result"
    }
   ],
   "source": [
    "def longestPalindrome(s):\n",
    "    length = len(s)\n",
    "    present = ''\n",
    "    longest = ''\n",
    "    for i in range(length):\n",
    "        for j in range(i,length):\n",
    "            present = s[i:j]\n",
    "            if present == present[::-1] and len(present) > len(longest):\n",
    "                longest = present\n",
    "    return longest\n",
    "# longestPalindrome('babad')\n",
    "longestPalindrome('bb')"
   ]
  },
  {
   "cell_type": "code",
   "execution_count": 67,
   "id": "9551cd23-f0b6-49c5-aedc-ac3d2c10528d",
   "metadata": {},
   "outputs": [
    {
     "data": {
      "text/plain": [
       "'bab'"
      ]
     },
     "execution_count": 67,
     "metadata": {},
     "output_type": "execute_result"
    }
   ],
   "source": [
    "def longestPalindrome(s):        \n",
    "    length = len(s)\n",
    "    present = ''\n",
    "    longest = ''\n",
    "    for i in range(length):\n",
    "        for j in range(i,length+1):\n",
    "            present = s[i:j]\n",
    "            if present == present[::-1] and len(present) > len(longest):\n",
    "                longest = present\n",
    "    return longest\n",
    "\n",
    "longestPalindrome('babad')"
   ]
  },
  {
   "cell_type": "code",
   "execution_count": 114,
   "id": "2b9faf92-a8cc-4b2e-b706-1182272b3af9",
   "metadata": {},
   "outputs": [
    {
     "data": {
      "text/plain": [
       "'aaacecaaa'"
      ]
     },
     "execution_count": 114,
     "metadata": {},
     "output_type": "execute_result"
    }
   ],
   "source": [
    "def shortestPalindrome(s):\n",
    "    s = list(s)\n",
    "    k = list(s)\n",
    "    temp = []\n",
    "    if s == s[::-1]:\n",
    "        return ''.join(s)\n",
    "    for i in range(len(s)-1,0,-1):\n",
    "        t = s.pop(i)\n",
    "        temp.append(t)\n",
    "        if s == s[::-1]:\n",
    "            k = temp + k\n",
    "            break\n",
    "    return ''.join(k)\n",
    "\n",
    "shortestPalindrome('aacecaaa')"
   ]
  },
  {
   "cell_type": "code",
   "execution_count": 8,
   "id": "28debc11-fd27-402f-97a4-c02b78128c5a",
   "metadata": {},
   "outputs": [],
   "source": [
    "st = '   fly me   to   the moon  '"
   ]
  },
  {
   "cell_type": "code",
   "execution_count": 9,
   "id": "eb59e8a6-d93c-4c81-86c4-5d93fc0f68b7",
   "metadata": {},
   "outputs": [],
   "source": [
    "new_string = st.split()"
   ]
  },
  {
   "cell_type": "code",
   "execution_count": 10,
   "id": "0b7fe7ff-af31-4653-8efa-b0d910356278",
   "metadata": {},
   "outputs": [
    {
     "data": {
      "text/plain": [
       "4"
      ]
     },
     "execution_count": 10,
     "metadata": {},
     "output_type": "execute_result"
    }
   ],
   "source": [
    "len(new_string[-1])"
   ]
  },
  {
   "cell_type": "code",
   "execution_count": 53,
   "id": "5428b393-ab64-4df1-8a24-618dd43ea683",
   "metadata": {},
   "outputs": [],
   "source": [
    "num = [1,2,3,4]"
   ]
  },
  {
   "cell_type": "code",
   "execution_count": 55,
   "id": "086b327b-106e-4e3f-95cd-c3d0c399fd71",
   "metadata": {},
   "outputs": [],
   "source": [
    "number = int(''.join(str(n) for n in num))"
   ]
  },
  {
   "cell_type": "code",
   "execution_count": 57,
   "id": "c5bd8d4c-57cd-415e-bd35-34bad3f76a30",
   "metadata": {},
   "outputs": [],
   "source": [
    "number += 1"
   ]
  },
  {
   "cell_type": "code",
   "execution_count": 61,
   "id": "000f00f0-d007-445a-8d89-152deed51529",
   "metadata": {},
   "outputs": [
    {
     "data": {
      "text/plain": [
       "1235"
      ]
     },
     "execution_count": 61,
     "metadata": {},
     "output_type": "execute_result"
    }
   ],
   "source": [
    "number"
   ]
  },
  {
   "cell_type": "code",
   "execution_count": 60,
   "id": "e2cd7bb3-d5d1-4872-af58-6ddeb0ab2d87",
   "metadata": {},
   "outputs": [
    {
     "data": {
      "text/plain": [
       "['1', '2', '3', '5']"
      ]
     },
     "execution_count": 60,
     "metadata": {},
     "output_type": "execute_result"
    }
   ],
   "source": [
    "list(str(number))"
   ]
  },
  {
   "cell_type": "code",
   "execution_count": 2,
   "id": "a391304f-67d2-48bd-8cf2-2c8a25535926",
   "metadata": {},
   "outputs": [
    {
     "data": {
      "text/plain": [
       "6"
      ]
     },
     "execution_count": 2,
     "metadata": {},
     "output_type": "execute_result"
    }
   ],
   "source": [
    "def peakIndexInMountainArray(arr):\n",
    "    for i in range(len(arr)):\n",
    "        if arr[i+1] < arr[i]:\n",
    "            return i\n",
    "peakIndexInMountainArray([1,2,3,4,6,7,9,8])"
   ]
  },
  {
   "cell_type": "code",
   "execution_count": 58,
   "id": "5f3a51c8-2ebf-4dbb-93cd-b699ba18e3ba",
   "metadata": {},
   "outputs": [
    {
     "name": "stdout",
     "output_type": "stream",
     "text": [
      "2 7\n"
     ]
    }
   ],
   "source": [
    "nums = [2,7,11,15]\n",
    "target = 9\n",
    "for i in range(len(nums)):\n",
    "    k = target - nums[i]\n",
    "    if k in nums:\n",
    "        print(nums[i], k)\n",
    "        break"
   ]
  },
  {
   "cell_type": "code",
   "execution_count": 122,
   "id": "50f91e29-9905-46f7-b3cf-83833f2b3178",
   "metadata": {},
   "outputs": [
    {
     "data": {
      "text/plain": [
       "'apbqrs'"
      ]
     },
     "execution_count": 122,
     "metadata": {},
     "output_type": "execute_result"
    }
   ],
   "source": [
    "def mergeAlternately(word1, word2):\n",
    "    merge = word1 + word2\n",
    "    length = len(merge)\n",
    "    word1 = list(word1)\n",
    "    word2 = list(word2)\n",
    "    t = 1\n",
    "    for i in range(len(word2)):\n",
    "        word1.insert(t,word2[i])\n",
    "        t += 2\n",
    "    return ''.join(word1)\n",
    "mergeAlternately('ab','pqrs')"
   ]
  },
  {
   "cell_type": "code",
   "execution_count": 137,
   "id": "3ffa9cde-ad54-4e71-80d0-f8fff0e721de",
   "metadata": {},
   "outputs": [
    {
     "data": {
      "text/plain": [
       "[True, True, True, False, True]"
      ]
     },
     "execution_count": 137,
     "metadata": {},
     "output_type": "execute_result"
    }
   ],
   "source": [
    "def kidsWithCandies(candies, extraCandies):\n",
    "    max_candies = max(candies)\n",
    "    new_candies = []\n",
    "    for i in candies:\n",
    "        if i + extraCandies >= max_candies:\n",
    "            new_candies.append(True)\n",
    "        else:\n",
    "            new_candies.append(False)\n",
    "    return new_candies\n",
    "kidsWithCandies([2,3,5,1,3], 3)"
   ]
  },
  {
   "cell_type": "code",
   "execution_count": 157,
   "id": "5f8b9a9e-d402-4817-ab37-daa02a4db781",
   "metadata": {},
   "outputs": [
    {
     "data": {
      "text/plain": [
       "True"
      ]
     },
     "execution_count": 157,
     "metadata": {},
     "output_type": "execute_result"
    }
   ],
   "source": [
    "def canPlaceFlowers(flowerbed, n):\n",
    "        k = 0\n",
    "        t = len(flowerbed) - 1\n",
    "        for i in range(len(flowerbed)):\n",
    "            if len(flowerbed) == 1:\n",
    "                if flowerbed[i] == 0:\n",
    "                    flowerbed[i] = 1\n",
    "                    k += 1\n",
    "            if i == 0:\n",
    "                if flowerbed[i] == 0 and flowerbed[i+1] == 0:\n",
    "                    flowerbed[i] = 1\n",
    "                    k += 1\n",
    "                    if n == k:\n",
    "                        return True\n",
    "                        break\n",
    "            if i != 0 and i != t:\n",
    "                if flowerbed[i-1] == 0 and flowerbed[i] == 0 and flowerbed[i+1] == 0:\n",
    "                    flowerbed[i] = 1\n",
    "                    k += 1\n",
    "            if i == t:\n",
    "                if flowerbed[i] == 0 and flowerbed[i-1] == 0:\n",
    "                        flowerbed[i] = 1\n",
    "                        k += 1\n",
    "        if n <= k:\n",
    "            return True\n",
    "        else:\n",
    "            return False\n",
    "canPlaceFlowers([1, 0, 1, 0, 0],1)"
   ]
  },
  {
   "cell_type": "code",
   "execution_count": 185,
   "id": "a277a12e-fdc5-4e6b-95a2-0c23ab0ce0c8",
   "metadata": {},
   "outputs": [
    {
     "name": "stdout",
     "output_type": "stream",
     "text": [
      "holle\n"
     ]
    }
   ],
   "source": [
    "import re\n",
    "s = \"hello\"\n",
    "vowels = re.findall('[aeiouAEIOU]', s)\n",
    "print(re.sub('[aeiouAEIOU]', lambda i : vowels.pop(), s))"
   ]
  },
  {
   "cell_type": "code",
   "execution_count": 187,
   "id": "35a37f06-75a3-4034-9ce4-ab919b17fa90",
   "metadata": {},
   "outputs": [
    {
     "data": {
      "text/plain": [
       "4"
      ]
     },
     "execution_count": 187,
     "metadata": {},
     "output_type": "execute_result"
    }
   ],
   "source": [
    "def longestValidParentheses(s):\n",
    "    max_length = 0\n",
    "    stck=[-1] \n",
    "    for i in range(len(s)):\n",
    "        if s[i] == '(':\n",
    "            stck.append(i)\n",
    "        else:\n",
    "            stck.pop()\n",
    "            if not stck:\n",
    "                stck.append(i)\n",
    "            else:\n",
    "                max_length=max(max_length, i-stck[-1]) \n",
    "    return max_length\n",
    "longestValidParentheses(')()())')"
   ]
  },
  {
   "cell_type": "code",
   "execution_count": 189,
   "id": "2cb20bf2-ba47-4c1d-abfa-8e5e04cf74f3",
   "metadata": {},
   "outputs": [
    {
     "data": {
      "text/plain": [
       "True"
      ]
     },
     "execution_count": 189,
     "metadata": {},
     "output_type": "execute_result"
    }
   ],
   "source": [
    "def searchMatrix(matrix, target):\n",
    "    m = len(matrix)\n",
    "    n = len(matrix[0])\n",
    "    for i in range(m):\n",
    "        for j in range(n):\n",
    "            if matrix[i][j] == target:\n",
    "                return True\n",
    "searchMatrix([[1,3,5,7],[10,11,16,20],[23,30,34,60]], 3)"
   ]
  },
  {
   "cell_type": "code",
   "execution_count": 191,
   "id": "fb4e51f3-7be2-4d6e-9f6e-dd19073c53e3",
   "metadata": {},
   "outputs": [
    {
     "data": {
      "text/plain": [
       "[3, 5]"
      ]
     },
     "execution_count": 191,
     "metadata": {},
     "output_type": "execute_result"
    }
   ],
   "source": [
    "def singleNumber(nums):\n",
    "    k = []\n",
    "    for i in nums:\n",
    "        if nums.count(i) == 1:\n",
    "            k.append(i)\n",
    "    return k\n",
    "singleNumber([1,2,1,3,2,5])"
   ]
  },
  {
   "cell_type": "code",
   "execution_count": 193,
   "id": "96684b28-79f8-4a46-b9b4-8df5604ae7df",
   "metadata": {},
   "outputs": [
    {
     "data": {
      "text/plain": [
       "True"
      ]
     },
     "execution_count": 193,
     "metadata": {},
     "output_type": "execute_result"
    }
   ],
   "source": [
    "def isUgly(n):\n",
    "    if n<1:\n",
    "        return False\n",
    "    multiple=2*3*5\n",
    "    return (multiple**20)%n==0\n",
    "isUgly(6)"
   ]
  },
  {
   "cell_type": "code",
   "execution_count": 195,
   "id": "3382ef4b-88bd-440d-949e-723e5b4fe136",
   "metadata": {},
   "outputs": [
    {
     "data": {
      "text/plain": [
       "16"
      ]
     },
     "execution_count": 195,
     "metadata": {},
     "output_type": "execute_result"
    }
   ],
   "source": [
    "def nthUglyNumber(n):\n",
    "    ugly_numbers = [1]  \n",
    "    idx2, idx3, idx5 = 0, 0, 0\n",
    "\n",
    "    while len(ugly_numbers) < n:\n",
    "        next_ugly = min(ugly_numbers[idx2] * 2, ugly_numbers[idx3] * 3, ugly_numbers[idx5] * 5)\n",
    "        ugly_numbers.append(next_ugly)\n",
    "        if next_ugly == ugly_numbers[idx2] * 2:\n",
    "            idx2 += 1\n",
    "        if next_ugly == ugly_numbers[idx3] * 3:\n",
    "            idx3 += 1\n",
    "        if next_ugly == ugly_numbers[idx5] * 5:\n",
    "            idx5 += 1\n",
    "    return ugly_numbers[n - 1]\n",
    "nthUglyNumber(12)"
   ]
  },
  {
   "cell_type": "code",
   "execution_count": 199,
   "id": "1a1a3b97-c1c3-40f3-80f2-7b3306927e08",
   "metadata": {},
   "outputs": [
    {
     "data": {
      "text/plain": [
       "'One Hundred Twenty Nine'"
      ]
     },
     "execution_count": 199,
     "metadata": {},
     "output_type": "execute_result"
    }
   ],
   "source": [
    "def numberToWords(num):\n",
    "    if num == 0:\n",
    "        return \"Zero\"\n",
    "    ones = [\"\", \"One\", \"Two\", \"Three\", \"Four\", \"Five\", \"Six\", \"Seven\", \"Eight\", \"Nine\"]\n",
    "    tens = [\"\", \"Ten\", \"Twenty\", \"Thirty\", \"Forty\", \"Fifty\", \"Sixty\", \"Seventy\", \"Eighty\", \"Ninety\"]\n",
    "    teens = [\"Ten\", \"Eleven\", \"Twelve\", \"Thirteen\", \"Fourteen\", \"Fifteen\", \"Sixteen\", \"Seventeen\", \"Eighteen\", \"Nineteen\"]\n",
    "    suffixes = [\"\", \"Thousand\", \"Million\", \"Billion\", \"Trillion\", \"Quadrillion\", \"Quintillion\", \"Sextillion\", \"Septillion\", \"Octillion\", \"Nonillion\", \"Decillion\"]\n",
    "    words = []\n",
    "    i = 0\n",
    "    while num > 0:\n",
    "        triplet = num % 1000\n",
    "        num = num // 1000\n",
    "        if triplet == 0:\n",
    "            i += 1\n",
    "            continue\n",
    "        temp = []\n",
    "        if triplet // 100 > 0:\n",
    "            temp.append(ones[triplet // 100])\n",
    "            temp.append(\"Hundred\")\n",
    "        if triplet % 100 >= 10 and triplet % 100 <= 19:\n",
    "            temp.append(teens[triplet % 10])\n",
    "        else:\n",
    "            if triplet % 100 >= 20:\n",
    "                temp.append(tens[triplet % 100 // 10])\n",
    "            if triplet % 10 > 0:\n",
    "                temp.append(ones[triplet % 10])\n",
    "        if i > 0:\n",
    "            temp.append(suffixes[i])\n",
    "        words = temp + words\n",
    "        i += 1\n",
    "    return \" \".join(words)\n",
    "numberToWords(129)"
   ]
  },
  {
   "cell_type": "code",
   "execution_count": 53,
   "id": "311cda34-27fe-4d9c-9409-bc02a44f1afd",
   "metadata": {},
   "outputs": [
    {
     "data": {
      "text/plain": [
       "0"
      ]
     },
     "execution_count": 53,
     "metadata": {},
     "output_type": "execute_result"
    }
   ],
   "source": [
    "def minimumRecolors(blocks, k):\n",
    "    ans = 0\n",
    "    res = 0\n",
    "\n",
    "    for i in range(len(blocks) - k + 1):\n",
    "        res = blocks.count('B', i, i + k)\n",
    "        ans = max(res, ans)\n",
    "\n",
    "    ans = k - ans\n",
    "    return ans\n",
    "minimumRecolors('WBBW', 2)"
   ]
  },
  {
   "cell_type": "code",
   "execution_count": 55,
   "id": "2cdd5e6c-1970-43b1-a020-67ca8e68c91a",
   "metadata": {},
   "outputs": [
    {
     "data": {
      "text/plain": [
       "1"
      ]
     },
     "execution_count": 55,
     "metadata": {},
     "output_type": "execute_result"
    }
   ],
   "source": [
    "def largestAltitude(gain):\n",
    "    k = [0]\n",
    "    t = 0\n",
    "    for i in gain:\n",
    "        t += i\n",
    "        k.append(t)\n",
    "    return max(k)\n",
    "largestAltitude([-5,1,5,0,-7])"
   ]
  },
  {
   "cell_type": "code",
   "execution_count": 11,
   "id": "e89a4e77-6a34-4f61-9046-0106a083eebb",
   "metadata": {},
   "outputs": [
    {
     "data": {
      "text/plain": [
       "3"
      ]
     },
     "execution_count": 11,
     "metadata": {},
     "output_type": "execute_result"
    }
   ],
   "source": [
    "def pivotIndex(nums):\n",
    "    leftSum, rightSum = 0, sum(nums)\n",
    "    for idx, ele in enumerate(nums):\n",
    "        rightSum -= ele\n",
    "        if leftSum == rightSum:\n",
    "            return idx      \n",
    "        leftSum += ele\n",
    "    return -1       \n",
    "pivotIndex([1,7,3,6,5,6])"
   ]
  },
  {
   "cell_type": "code",
   "execution_count": 19,
   "id": "8887f2f8-5cd1-4f35-b3d2-5d5ba2caa450",
   "metadata": {},
   "outputs": [
    {
     "data": {
      "text/plain": [
       "[3, 3, 5, 5, 6, 7]"
      ]
     },
     "execution_count": 19,
     "metadata": {},
     "output_type": "execute_result"
    }
   ],
   "source": [
    "def maxSlidingWindow(nums, k):\n",
    "    t = []\n",
    "    length = len(nums)-k\n",
    "    for i in range(len(nums)):\n",
    "        if i <= length:\n",
    "            t.append(max(nums[i:i+k]))\n",
    "    return t\n",
    "maxSlidingWindow([1,3,-1,-3,5,3,6,7], 3)"
   ]
  },
  {
   "cell_type": "code",
   "execution_count": 24,
   "id": "83147cbc-db50-4f67-af45-fd048fdc81cb",
   "metadata": {},
   "outputs": [
    {
     "data": {
      "text/plain": [
       "12.75"
      ]
     },
     "execution_count": 24,
     "metadata": {},
     "output_type": "execute_result"
    }
   ],
   "source": [
    "def findMaxAverage(nums, k):\n",
    "    t = []\n",
    "    length = len(nums) - k\n",
    "    for i in range(len(nums)):\n",
    "        if i <= length:\n",
    "            t.append((sum(nums[i:i+k])/k))\n",
    "    return max(t)\n",
    "findMaxAverage([1,12,-5,-6,50,3], 4)"
   ]
  },
  {
   "cell_type": "code",
   "execution_count": 27,
   "id": "a6d440f6-d673-4def-bff4-e5fc37e70279",
   "metadata": {},
   "outputs": [
    {
     "data": {
      "text/plain": [
       "True"
      ]
     },
     "execution_count": 27,
     "metadata": {},
     "output_type": "execute_result"
    }
   ],
   "source": [
    "def repeatedSubstringPattern(s):\n",
    "    return s in (s + s)[1:-1]\n",
    "repeatedSubstringPattern('abab')"
   ]
  },
  {
   "cell_type": "code",
   "execution_count": 30,
   "id": "6114eec1-fba0-42e5-86ab-564b6d670cea",
   "metadata": {},
   "outputs": [
    {
     "data": {
      "text/plain": [
       "True"
      ]
     },
     "execution_count": 30,
     "metadata": {},
     "output_type": "execute_result"
    }
   ],
   "source": [
    "def containsDuplicate(nums):\n",
    "    if len(set(nums)) != len(nums):\n",
    "        return True\n",
    "containsDuplicate([1,1,2,2,4,6,8,9])"
   ]
  },
  {
   "cell_type": "code",
   "execution_count": 56,
   "id": "d90fd99a-2136-4d71-8219-ee472d0de5e1",
   "metadata": {},
   "outputs": [
    {
     "data": {
      "text/plain": [
       "True"
      ]
     },
     "execution_count": 56,
     "metadata": {},
     "output_type": "execute_result"
    }
   ],
   "source": [
    "def isPalindrome(s):\n",
    "    m = (\"\".join(i for i in s if i.isalnum())).lower()\n",
    "    return m == m[::-1]\n",
    "isPalindrome('ab, ba')"
   ]
  },
  {
   "cell_type": "code",
   "execution_count": 57,
   "id": "c39f8dac-59a6-4c19-a2ff-cef8637bb7b8",
   "metadata": {},
   "outputs": [
    {
     "data": {
      "text/plain": [
       "True"
      ]
     },
     "execution_count": 57,
     "metadata": {},
     "output_type": "execute_result"
    }
   ],
   "source": [
    "def isAnagram(s, t):\n",
    "    return sorted(s) == sorted(t)\n",
    "isAnagram('anagram','nagaram')"
   ]
  },
  {
   "cell_type": "code",
   "execution_count": 75,
   "id": "5000f3d1-49b9-4ca2-b74b-f60cb391c8db",
   "metadata": {},
   "outputs": [
    {
     "data": {
      "text/plain": [
       "True"
      ]
     },
     "execution_count": 75,
     "metadata": {},
     "output_type": "execute_result"
    }
   ],
   "source": [
    "def search(nums, target):\n",
    "    return target in nums\n",
    "search([2,5,6,0,0,1,2],2)"
   ]
  },
  {
   "cell_type": "code",
   "execution_count": 11,
   "id": "899d7aa6-3526-47a6-acf0-d272c2f3cc42",
   "metadata": {},
   "outputs": [
    {
     "data": {
      "text/plain": [
       "'AB'"
      ]
     },
     "execution_count": 11,
     "metadata": {},
     "output_type": "execute_result"
    }
   ],
   "source": [
    "def convertToTitle(columnNumber):\n",
    "    ans=\"\"        \n",
    "    while columnNumber>0:\n",
    "        c=chr(ord('A')+(columnNumber-1)%26)\n",
    "        ans=c+ans\n",
    "        columnNumber=(columnNumber-1)//26            \n",
    "    return ans \n",
    "convertToTitle(28)"
   ]
  },
  {
   "cell_type": "code",
   "execution_count": 35,
   "id": "65cf5312-aa79-459d-8172-6b5388627090",
   "metadata": {},
   "outputs": [
    {
     "data": {
      "text/plain": [
       "5"
      ]
     },
     "execution_count": 35,
     "metadata": {},
     "output_type": "execute_result"
    }
   ],
   "source": [
    "def maxProfit(prices):\n",
    "    n=len(prices)\n",
    "    m1=prices[0]\n",
    "    m2=0\n",
    "    for i in range(1,n):\n",
    "        if m1>prices[i]:\n",
    "            m1=prices[i]\n",
    "        if m2<(prices[i]-m1):\n",
    "            m2=prices[i]-m1\n",
    "    return m2  \n",
    "maxProfit([7,1,5,3,6,4])"
   ]
  },
  {
   "cell_type": "code",
   "execution_count": 48,
   "id": "f237b12e-bac8-4eec-9e33-3e7aad3a2ced",
   "metadata": {},
   "outputs": [
    {
     "data": {
      "text/plain": [
       "True"
      ]
     },
     "execution_count": 48,
     "metadata": {},
     "output_type": "execute_result"
    }
   ],
   "source": [
    "def wordBreak(s, wordDict):\n",
    "    n=len(s)\n",
    "    dp=[True]\n",
    "    for i in range(1,n+1):\n",
    "        dp.append(any(dp[j] and s[j:i] in wordDict for j in range(i)))\n",
    "    return dp[-1]    \n",
    "wordBreak('leetcode', [\"leet\",\"code\"])"
   ]
  },
  {
   "cell_type": "code",
   "execution_count": 62,
   "id": "e4f28e47-63ea-4c10-ba30-8703fb44042b",
   "metadata": {},
   "outputs": [
    {
     "data": {
      "text/plain": [
       "55"
      ]
     },
     "execution_count": 62,
     "metadata": {},
     "output_type": "execute_result"
    }
   ],
   "source": [
    "def climbStairs(n):\n",
    "    if n<=2: \n",
    "        return n\n",
    "    p1 = 1\n",
    "    p2 = 2\n",
    "    current = 0\n",
    "    for i in range(2, n):\n",
    "        current = p1+p2\n",
    "        p1=p2\n",
    "        p2=current\n",
    "    return current\n",
    "climbStairs(9)"
   ]
  },
  {
   "cell_type": "code",
   "execution_count": 1,
   "id": "c1b373b4-26e0-4fe6-be28-463e394cae36",
   "metadata": {},
   "outputs": [
    {
     "name": "stdout",
     "output_type": "stream",
     "text": [
      "foo\n",
      "foo\n"
     ]
    }
   ],
   "source": [
    "s = 'foo bar foo baz foo'\n",
    "k = list(s.split(' '))\n",
    "for i in k:\n",
    "    if k.count(i) >= 2:\n",
    "        print(i)\n",
    "        k.remove(i)"
   ]
  },
  {
   "cell_type": "code",
   "execution_count": 17,
   "id": "830bf7c8-0d8c-4cd6-8a12-1785d65b8199",
   "metadata": {},
   "outputs": [
    {
     "name": "stdout",
     "output_type": "stream",
     "text": [
      "[1, 3, 12, 0, 0]\n"
     ]
    }
   ],
   "source": [
    "nums = [0,1,0,3,12]\n",
    "k = []\n",
    "y = []\n",
    "for i in nums:\n",
    "    if i != 0:\n",
    "        k.append(i)\n",
    "    else:\n",
    "        y.append(i)\n",
    "print(k+y)"
   ]
  },
  {
   "cell_type": "code",
   "execution_count": 17,
   "id": "0c697758-8236-48b2-bce8-781d291e3207",
   "metadata": {},
   "outputs": [
    {
     "name": "stdout",
     "output_type": "stream",
     "text": [
      "[(1, 2, 1), (2, 1, 1), (1, 1, 2)]\n"
     ]
    }
   ],
   "source": [
    "from itertools import permutations\n",
    "k = [1,1,2]\n",
    "print(list(set(permutations(k))))"
   ]
  },
  {
   "cell_type": "code",
   "execution_count": 1,
   "id": "0ee70241-d530-4957-8ee0-c931b2876037",
   "metadata": {},
   "outputs": [
    {
     "data": {
      "text/plain": [
       "\"s'teL ekat edoCteeL tsetnoc\""
      ]
     },
     "execution_count": 1,
     "metadata": {},
     "output_type": "execute_result"
    }
   ],
   "source": [
    "def reverseWords(s):\n",
    "    k = list(s.split())\n",
    "    t = ''\n",
    "    for i in k:\n",
    "        t += i[::-1]\n",
    "        t += ' '\n",
    "    return t.strip()\n",
    "reverseWords(\"Let's take LeetCode contest\")"
   ]
  },
  {
   "cell_type": "code",
   "execution_count": 2,
   "id": "04d2fed6-c27a-49c5-b9f1-9b740b4b3f6d",
   "metadata": {},
   "outputs": [
    {
     "data": {
      "text/plain": [
       "True"
      ]
     },
     "execution_count": 2,
     "metadata": {},
     "output_type": "execute_result"
    }
   ],
   "source": [
    "def isMonotonic(nums):\n",
    "    d = sorted(nums, reverse=True)\n",
    "    if d == nums:\n",
    "        return True\n",
    "    else:\n",
    "        i = sorted(nums)\n",
    "        if i == nums:\n",
    "            return True\n",
    "isMonotonic([1,2,2,3])"
   ]
  },
  {
   "cell_type": "code",
   "execution_count": 3,
   "id": "187f5306-53b1-4d4e-aeea-2682fdd4a8b1",
   "metadata": {},
   "outputs": [
    {
     "data": {
      "text/plain": [
       "[2, 4, 3, 1]"
      ]
     },
     "execution_count": 3,
     "metadata": {},
     "output_type": "execute_result"
    }
   ],
   "source": [
    "def sortArrayByParity(nums):\n",
    "    odd = []\n",
    "    even = []\n",
    "    for i in nums:\n",
    "        if i%2 != 0:\n",
    "            odd.append(i)\n",
    "        else:\n",
    "            even.append(i)\n",
    "    return list(even + odd)\n",
    "sortArrayByParity([3,1,2,4])"
   ]
  },
  {
   "cell_type": "code",
   "execution_count": 20,
   "id": "0f28253c-17d6-4e43-b71a-c391a473d89d",
   "metadata": {},
   "outputs": [
    {
     "data": {
      "text/plain": [
       "'3'"
      ]
     },
     "execution_count": 20,
     "metadata": {},
     "output_type": "execute_result"
    }
   ],
   "source": [
    "def kthLargestNumber(nums, k):\n",
    "    t = []\n",
    "    for i in nums:\n",
    "        t.append(int(i))\n",
    "    t = sorted(t, reverse=True)\n",
    "    return str(t[k-1])\n",
    "kthLargestNumber([\"3\",\"6\",\"7\",\"10\"], 4)"
   ]
  },
  {
   "cell_type": "code",
   "execution_count": 4,
   "id": "12a30de7-af52-46cc-beb0-c6c363dacf55",
   "metadata": {},
   "outputs": [
    {
     "data": {
      "text/plain": [
       "21"
      ]
     },
     "execution_count": 4,
     "metadata": {},
     "output_type": "execute_result"
    }
   ],
   "source": [
    "def sumOfSquares(nums):\n",
    "    total = 0\n",
    "    for i in range(1,len(nums)+1):\n",
    "        if len(nums) % i == 0:\n",
    "            total += nums[i-1]**2\n",
    "    return total\n",
    "sumOfSquares([1,2,3,4])"
   ]
  },
  {
   "cell_type": "code",
   "execution_count": 13,
   "id": "f2fea3a2-afd1-469a-95f5-17461b5e720a",
   "metadata": {},
   "outputs": [
    {
     "data": {
      "text/plain": [
       "'blue is sky the'"
      ]
     },
     "execution_count": 13,
     "metadata": {},
     "output_type": "execute_result"
    }
   ],
   "source": [
    "def reverseWords(s):\n",
    "        k = s.split()\n",
    "        return ' '.join(k[::-1])\n",
    "reverseWords('the sky is blue')"
   ]
  },
  {
   "cell_type": "code",
   "execution_count": 54,
   "id": "70245001-8116-4b6c-a7ef-a21c3afcc629",
   "metadata": {},
   "outputs": [
    {
     "data": {
      "text/plain": [
       "[1, 4, 2, 7, 5, 3, 8, 6, 9]"
      ]
     },
     "execution_count": 54,
     "metadata": {},
     "output_type": "execute_result"
    }
   ],
   "source": [
    "def matrix_diagonally(nums):\n",
    "    m = len(nums)\n",
    "    n = len(nums[0])\n",
    "    t = (len(nums) - 1) * 2\n",
    "    y = []\n",
    "    r = []\n",
    "    d = []\n",
    "    for w in range(t+1):\n",
    "        for i in range(m):\n",
    "            for j in range(n):\n",
    "                if i + j == w:\n",
    "                    y.append(nums[i][j])\n",
    "        r.append(y[::-1])\n",
    "        y = []\n",
    "    for i in r:\n",
    "        d.extend(i)\n",
    "    return d\n",
    "matrix_diagonally([[1,2,3],[4,5,6],[7,8,9]])"
   ]
  },
  {
   "cell_type": "code",
   "execution_count": 12,
   "id": "8ff56ec4-22b9-4b50-b867-f7dd2cd617d9",
   "metadata": {},
   "outputs": [
    {
     "data": {
      "text/plain": [
       "9"
      ]
     },
     "execution_count": 12,
     "metadata": {},
     "output_type": "execute_result"
    }
   ],
   "source": [
    "def hammingWeight(n):\n",
    "    k = list(str(n))\n",
    "    return k.count('1')\n",
    "hammingWeight(10001001001001001111)"
   ]
  },
  {
   "cell_type": "code",
   "execution_count": 1,
   "id": "41120280-c4a4-4f6e-8f9d-4dac33e65f38",
   "metadata": {},
   "outputs": [
    {
     "data": {
      "text/plain": [
       "3"
      ]
     },
     "execution_count": 1,
     "metadata": {},
     "output_type": "execute_result"
    }
   ],
   "source": [
    "def maxDepth(s):\n",
    "    t = 0\n",
    "    total = 0\n",
    "    if not s:\n",
    "        return 0\n",
    "    for i in s:\n",
    "        if i == '(':\n",
    "            t+= 1\n",
    "            total = max(total,t)\n",
    "        elif i == ')':\n",
    "            t-= 1\n",
    "    return total\n",
    "maxDepth('(1+(2*3)+((8)/4))+1')"
   ]
  },
  {
   "cell_type": "code",
   "execution_count": 37,
   "id": "ff86c141-83b5-4892-8d8c-76509500245c",
   "metadata": {},
   "outputs": [
    {
     "name": "stdout",
     "output_type": "stream",
     "text": [
      "1\n",
      "1\n",
      "19\n"
     ]
    },
    {
     "data": {
      "text/plain": [
       "2.0"
      ]
     },
     "execution_count": 37,
     "metadata": {},
     "output_type": "execute_result"
    }
   ],
   "source": [
    "def trimMean(arr):\n",
    "        arr.sort()\n",
    "        n = len(arr)\n",
    "        trim_size = int(n * 0.05)\n",
    "        start_index = trim_size\n",
    "        end_index = n - trim_size\n",
    "        trimmed_arr = arr[start_index:end_index]\n",
    "        mean = sum(trimmed_arr) / len(trimmed_arr)\n",
    "        return mean\n",
    "trimMean([1,2,2,2,2,2,2,2,2,2,2,2,2,2,2,2,2,2,2,3])"
   ]
  },
  {
   "cell_type": "code",
   "execution_count": 5,
   "id": "f8c60566-7209-4526-a3c0-f51f88f4d31a",
   "metadata": {},
   "outputs": [
    {
     "data": {
      "text/plain": [
       "True"
      ]
     },
     "execution_count": 5,
     "metadata": {},
     "output_type": "execute_result"
    }
   ],
   "source": [
    "def arrayStringsAreEqual(word1, word2):\n",
    "    return ''.join(word1) == ''.join(word2)\n",
    "arrayStringsAreEqual([\"ab\", \"c\"], [\"a\", \"bc\"])"
   ]
  },
  {
   "cell_type": "code",
   "execution_count": 20,
   "id": "a400b357-9ca1-4b4b-adee-49b9727ab503",
   "metadata": {},
   "outputs": [
    {
     "data": {
      "text/plain": [
       "'777'"
      ]
     },
     "execution_count": 20,
     "metadata": {},
     "output_type": "execute_result"
    }
   ],
   "source": [
    "def largestGoodInteger(num):\n",
    "    t = []\n",
    "    g = ''\n",
    "    k = ['000','111','222','333','444','555','666','777','888','999']\n",
    "    for i in range(len(num)-2):\n",
    "        g = num[i:i+3]\n",
    "        if g in k:\n",
    "            t.append(g)\n",
    "    if len(t) != 0:\n",
    "        t.sort(reverse=True)\n",
    "        return t[0]\n",
    "    else:\n",
    "        return ''\n",
    "largestGoodInteger('6777133339')"
   ]
  },
  {
   "cell_type": "code",
   "execution_count": 49,
   "id": "74118877-8fd5-477f-b088-45044e605bf7",
   "metadata": {},
   "outputs": [
    {
     "data": {
      "text/plain": [
       "'1098690909'"
      ]
     },
     "execution_count": 49,
     "metadata": {},
     "output_type": "execute_result"
    }
   ],
   "source": [
    "def largestOddNumber(num):\n",
    "    for i in range(len(num) - 1, -1, -1):\n",
    "        if int(num[i]) % 2 == 1:\n",
    "            return num[:i+1]\n",
    "    return ''\n",
    "largestOddNumber('10986909090')"
   ]
  },
  {
   "cell_type": "code",
   "execution_count": 1,
   "id": "f69d6ed9-05e5-4345-8e4c-0603ba85c45f",
   "metadata": {},
   "outputs": [
    {
     "data": {
      "text/plain": [
       "34"
      ]
     },
     "execution_count": 1,
     "metadata": {},
     "output_type": "execute_result"
    }
   ],
   "source": [
    "def maxProductDifference(nums):\n",
    "    nums.sort()\n",
    "    return abs((nums[0] * nums[1]) - (nums[-1] * nums[-2]))\n",
    "maxProductDifference([5,6,2,7,4])"
   ]
  },
  {
   "cell_type": "code",
   "execution_count": 8,
   "id": "29eb9c23-35be-46b0-a55e-eed08bae0809",
   "metadata": {},
   "outputs": [
    {
     "data": {
      "text/plain": [
       "True"
      ]
     },
     "execution_count": 8,
     "metadata": {},
     "output_type": "execute_result"
    }
   ],
   "source": [
    "def isAcronym(words, s):\n",
    "    stri = ''\n",
    "    for i in words:\n",
    "        stri += i[0]\n",
    "    return stri == s\n",
    "isAcronym(['alice','bob','charlie'],'abc')"
   ]
  },
  {
   "cell_type": "code",
   "execution_count": 1,
   "id": "6fcd2d77-049e-48f4-8839-43587bb99819",
   "metadata": {},
   "outputs": [
    {
     "data": {
      "text/plain": [
       "3"
      ]
     },
     "execution_count": 1,
     "metadata": {},
     "output_type": "execute_result"
    }
   ],
   "source": [
    "def firstMissingPositive(nums):\n",
    "    nums, i = set(nums), 1\n",
    "    while i in nums:\n",
    "        i += 1\n",
    "    return i  \n",
    "firstMissingPositive([1,2,0])"
   ]
  },
  {
   "cell_type": "code",
   "execution_count": 2,
   "id": "6d3cec05-280a-4230-a853-d3753865f2b7",
   "metadata": {},
   "outputs": [
    {
     "data": {
      "text/plain": [
       "8"
      ]
     },
     "execution_count": 2,
     "metadata": {},
     "output_type": "execute_result"
    }
   ],
   "source": [
    "def majorityElement(nums):\n",
    "    nums.sort()\n",
    "    return nums[len(nums)//2]      \n",
    "majorityElement([2,8,2,8])"
   ]
  },
  {
   "cell_type": "code",
   "execution_count": null,
   "id": "d8ac620b-1b3b-44fc-97de-8141c694e322",
   "metadata": {},
   "outputs": [],
   "source": []
  },
  {
   "cell_type": "code",
   "execution_count": null,
   "id": "54389de0-9963-47e8-ab88-618eeaa95d40",
   "metadata": {},
   "outputs": [],
   "source": []
  },
  {
   "cell_type": "code",
   "execution_count": null,
   "id": "a9cdbb30-0514-4872-82f7-04342111a036",
   "metadata": {},
   "outputs": [],
   "source": []
  },
  {
   "cell_type": "code",
   "execution_count": null,
   "id": "0a3d6d35-6693-48e7-9c5d-ff7786885aca",
   "metadata": {},
   "outputs": [],
   "source": []
  }
 ],
 "metadata": {
  "kernelspec": {
   "display_name": "Python 3 (ipykernel)",
   "language": "python",
   "name": "python3"
  },
  "language_info": {
   "codemirror_mode": {
    "name": "ipython",
    "version": 3
   },
   "file_extension": ".py",
   "mimetype": "text/x-python",
   "name": "python",
   "nbconvert_exporter": "python",
   "pygments_lexer": "ipython3",
   "version": "3.6.13"
  }
 },
 "nbformat": 4,
 "nbformat_minor": 5
}
