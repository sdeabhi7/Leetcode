{
 "cells": [
  {
   "cell_type": "code",
   "execution_count": 2,
   "id": "bc2a43c0-ab73-4cf9-a7be-9fe0be5f5519",
   "metadata": {},
   "outputs": [
    {
     "name": "stdout",
     "output_type": "stream",
     "text": [
      "42 51\n"
     ]
    }
   ],
   "source": [
    "arr = [6, 7, 9, 4, 2, 5, 8, 10, 1]\n",
    "arr.sort()\n",
    "max_sum = sum(arr[1:])\n",
    "min_sum = sum(arr[:-1])\n",
    "print(min_sum, max_sum)"
   ]
  },
  {
   "cell_type": "code",
   "execution_count": null,
   "id": "56d60c4f-2eaf-4df6-9ee5-3503a130e8a9",
   "metadata": {},
   "outputs": [],
   "source": []
  }
 ],
 "metadata": {
  "kernelspec": {
   "display_name": "Python 3 (ipykernel)",
   "language": "python",
   "name": "python3"
  },
  "language_info": {
   "codemirror_mode": {
    "name": "ipython",
    "version": 3
   },
   "file_extension": ".py",
   "mimetype": "text/x-python",
   "name": "python",
   "nbconvert_exporter": "python",
   "pygments_lexer": "ipython3",
   "version": "3.10.7"
  }
 },
 "nbformat": 4,
 "nbformat_minor": 5
}
