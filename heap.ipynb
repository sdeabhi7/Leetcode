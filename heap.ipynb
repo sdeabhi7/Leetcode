{
 "cells": [
  {
   "cell_type": "code",
   "execution_count": 6,
   "id": "e6f40854-dccc-4a0b-81bd-d19c8128d85a",
   "metadata": {},
   "outputs": [
    {
     "name": "stdout",
     "output_type": "stream",
     "text": [
      "[-6, -2, 1, 4, 2, 3, 7, 8, 9]\n"
     ]
    }
   ],
   "source": [
    "import heapq\n",
    "li = [1,2,3,4,-2,-6,7,8,9]\n",
    "heapq.heapify(li)\n",
    "print(li)"
   ]
  },
  {
   "cell_type": "code",
   "execution_count": 7,
   "id": "ffd9debb-95a2-4ddd-b3a4-7c3760250392",
   "metadata": {},
   "outputs": [
    {
     "name": "stdout",
     "output_type": "stream",
     "text": [
      "[-6, -2, 1, 4, 2, 3, 7, 8, 9, 9]\n"
     ]
    }
   ],
   "source": [
    "heapq.heappush(li, 9)\n",
    "print(li)"
   ]
  },
  {
   "cell_type": "code",
   "execution_count": 8,
   "id": "91f1918f-98a6-4dab-bd44-c04ca91fbb97",
   "metadata": {},
   "outputs": [
    {
     "name": "stdout",
     "output_type": "stream",
     "text": [
      "haepq pop: -6\n",
      "[-2, 2, 1, 4, 9, 3, 7, 8, 9]\n"
     ]
    }
   ],
   "source": [
    "temp = heapq.heappop(li)\n",
    "print('haepq pop:', temp) \n",
    "print(li)"
   ]
  },
  {
   "cell_type": "code",
   "execution_count": 21,
   "id": "e82ac167-3b84-4d27-83ec-3b57bcad8480",
   "metadata": {},
   "outputs": [
    {
     "name": "stdout",
     "output_type": "stream",
     "text": [
      "[1, 3, 9, 4, 5]\n",
      "[3, 4, 9, 5, 7]\n"
     ]
    }
   ],
   "source": [
    "li1 = [5, 1, 9, 4, 3]\n",
    "li2 = [5, 7, 9, 4, 3]\n",
    "heapq.heapify(li1)\n",
    "heapq.heapify(li2)\n",
    "print(li1)\n",
    "print(li2)"
   ]
  },
  {
   "cell_type": "code",
   "execution_count": 22,
   "id": "d3243d76-57e6-4c86-bb7c-6da2af25f641",
   "metadata": {},
   "outputs": [
    {
     "data": {
      "text/plain": [
       "[1, 3, 2, 4, 5, 9]"
      ]
     },
     "execution_count": 22,
     "metadata": {},
     "output_type": "execute_result"
    }
   ],
   "source": [
    "heapq.heappush(li1,2)\n",
    "li1"
   ]
  },
  {
   "cell_type": "code",
   "execution_count": 23,
   "id": "a4f0515f-c6fa-4a7e-b993-d82f232894c3",
   "metadata": {},
   "outputs": [
    {
     "data": {
      "text/plain": [
       "[2, 4, 9, 5, 7]"
      ]
     },
     "execution_count": 23,
     "metadata": {},
     "output_type": "execute_result"
    }
   ],
   "source": [
    "heapq.heapreplace(li2,2)\n",
    "li2"
   ]
  },
  {
   "cell_type": "code",
   "execution_count": 25,
   "id": "a789ed46-0725-46a1-a09d-cc9de2935947",
   "metadata": {},
   "outputs": [
    {
     "data": {
      "text/plain": [
       "[1, 3]"
      ]
     },
     "execution_count": 25,
     "metadata": {},
     "output_type": "execute_result"
    }
   ],
   "source": [
    "li1 = [6, 7, 9, 4, 3, 5, 8, 10, 1]\n",
    "heapq.nsmallest(2,li1)"
   ]
  },
  {
   "cell_type": "code",
   "execution_count": 36,
   "id": "52d94719-62e9-45e0-b538-41b565cd6fee",
   "metadata": {},
   "outputs": [
    {
     "data": {
      "text/plain": [
       "[10, 9]"
      ]
     },
     "execution_count": 36,
     "metadata": {},
     "output_type": "execute_result"
    }
   ],
   "source": [
    "heapq.nlargest(2,li1)"
   ]
  },
  {
   "cell_type": "code",
   "execution_count": 100,
   "id": "89d44a87-362a-461e-9bff-1a543a18d886",
   "metadata": {},
   "outputs": [],
   "source": [
    "import math\n",
    "arr = [1,2,3,4,6,1,2,3,4]\n",
    "n = int(math.sqrt(len(arr)))"
   ]
  },
  {
   "cell_type": "code",
   "execution_count": 3,
   "id": "c34b5666-a9a1-4f82-afa0-dfa2935c3c01",
   "metadata": {},
   "outputs": [
    {
     "name": "stdout",
     "output_type": "stream",
     "text": [
      "15\n"
     ]
    }
   ],
   "source": [
    "arr = [[11, 2, 4], [4, 5, 6], [10, 8, -12]]\n",
    "diag1 = 0\n",
    "diag2 = 0\n",
    "n = len(arr)\n",
    "for i in range(n):\n",
    "    for j in range(n):\n",
    "        if i == j:\n",
    "            diag1 += arr[i][j]\n",
    "        if (i + j) == (n-1):\n",
    "            diag2 += arr[i][j]\n",
    "print(abs(diag1 - diag2))"
   ]
  },
  {
   "cell_type": "code",
   "execution_count": 4,
   "id": "9fc18e8a-66c8-4d63-b28d-92d7e39062ee",
   "metadata": {},
   "outputs": [
    {
     "name": "stdout",
     "output_type": "stream",
     "text": [
      "[0, 3, 1, 1, 0]\n"
     ]
    }
   ],
   "source": [
    "arr = [1,1,3,2,1]\n",
    "k = []\n",
    "for i,j in enumerate(arr):\n",
    "    k.append(arr.count(i))\n",
    "print(k)"
   ]
  },
  {
   "cell_type": "code",
   "execution_count": 5,
   "id": "515c09bc-5eed-43e5-bdf1-ad33ecb08916",
   "metadata": {},
   "outputs": [
    {
     "name": "stdout",
     "output_type": "stream",
     "text": [
      "[0, 3, 1, 1, 0, 0, 0, 0, 0, 0, 0, 0, 0, 0, 0, 0, 0, 0, 0, 0, 0, 0, 0, 0, 0, 0, 0, 0, 0, 0, 0, 0, 0, 0, 0, 0, 0, 0, 0, 0, 0, 0, 0, 0, 0, 0, 0, 0, 0, 0, 0, 0, 0, 0, 0, 0, 0, 0, 0, 0, 0, 0, 0, 0, 0, 0, 0, 0, 0, 0, 0, 0, 0, 0, 0, 0, 0, 0, 0, 0, 0, 0, 0, 0, 0, 0, 0, 0, 0, 0, 0, 0, 0, 0, 0, 0, 0, 0, 0, 0]\n"
     ]
    }
   ],
   "source": [
    "arr = [1,1,3,2,1]\n",
    "freq = [0]*100\n",
    "for i in arr:\n",
    "    freq[i] = freq[i]+1\n",
    "print(freq)"
   ]
  }
 ],
 "metadata": {
  "kernelspec": {
   "display_name": "Python 3 (ipykernel)",
   "language": "python",
   "name": "python3"
  },
  "language_info": {
   "codemirror_mode": {
    "name": "ipython",
    "version": 3
   },
   "file_extension": ".py",
   "mimetype": "text/x-python",
   "name": "python",
   "nbconvert_exporter": "python",
   "pygments_lexer": "ipython3",
   "version": "3.10.7"
  }
 },
 "nbformat": 4,
 "nbformat_minor": 5
}
