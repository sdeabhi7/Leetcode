{
 "cells": [
  {
   "cell_type": "code",
   "execution_count": 33,
   "id": "4da844cb-d2c0-4711-acd0-bbc6d129b1f5",
   "metadata": {},
   "outputs": [],
   "source": [
    "import sys\n",
    "def max_sub_arr_sum(ar):\n",
    "    n = len(ar)\n",
    "    cur_sum = -1*sys.maxsize\n",
    "    max_sum = -1*sys.maxsize\n",
    "    \n",
    "    for i in range(0,n):\n",
    "        if cur_sum >= 0:\n",
    "            cur_sum = cur_sum + ar[i]\n",
    "        else:\n",
    "            cur_sum = ar[i]\n",
    "        print(\"currsum\", cur_sum)\n",
    "            \n",
    "        max_sum = max(cur_sum, max_sum)\n",
    "        print(\"maxsum\", max_sum)\n",
    "\n",
    "    return max_sum "
   ]
  },
  {
   "cell_type": "code",
   "execution_count": 34,
   "id": "20ac13da-f9b0-4169-9870-2425bdbef1b0",
   "metadata": {},
   "outputs": [
    {
     "name": "stdout",
     "output_type": "stream",
     "text": [
      "currsum 1\n",
      "maxsum 1\n",
      "currsum 4\n",
      "maxsum 4\n",
      "currsum 12\n",
      "maxsum 12\n",
      "currsum 10\n",
      "maxsum 12\n",
      "currsum 16\n",
      "maxsum 16\n",
      "currsum 8\n",
      "maxsum 16\n",
      "currsum 13\n",
      "maxsum 16\n",
      "16\n"
     ]
    }
   ],
   "source": [
    "if __name__ == \"__main__\":\n",
    "    print(max_sub_arr_sum([1, 3, 8, -2, 6, -8, 5]));"
   ]
  },
  {
   "cell_type": "code",
   "execution_count": 39,
   "id": "56e16654-9355-4249-b5b6-b209fdfe5cf4",
   "metadata": {},
   "outputs": [
    {
     "name": "stdout",
     "output_type": "stream",
     "text": [
      "[1, 62, 4, 4, -3, 5, 6, 2, 3, 10, 23, -10, -20, -4]\n",
      "[-20, -3, -10, 2, 10, 1, -4, 4, 3, 62, 23, 4, 5, 6]\n",
      "-20 -10\n"
     ]
    }
   ],
   "source": [
    "import heapq\n",
    "li = [1,62,4,4,-3,5,6,2,3,10,23,-10,-20,-4]\n",
    "print(li)\n",
    "heapq.heapify(li)\n",
    "print(li)\n",
    "a = heapq.heappop(li)\n",
    "b = heapq.heappop(li)\n",
    "print(a, b)"
   ]
  },
  {
   "cell_type": "code",
   "execution_count": 67,
   "id": "64df4ea0-ae60-4933-979b-edb94e71cb66",
   "metadata": {},
   "outputs": [
    {
     "name": "stdout",
     "output_type": "stream",
     "text": [
      "abcdfghjklmnsvxz\n"
     ]
    }
   ],
   "source": [
    "a = 'asdfghjklzxcvbnm'\n",
    "print(''.join(sorted(a)))"
   ]
  },
  {
   "cell_type": "code",
   "execution_count": 73,
   "id": "8fe5222e-5331-4fdc-a4ee-882e68e2b1ae",
   "metadata": {},
   "outputs": [
    {
     "name": "stdout",
     "output_type": "stream",
     "text": [
      "0 5\n",
      "Element found at index 3\n"
     ]
    }
   ],
   "source": [
    "def searchCircularList(nums, target):\n",
    "    (left, right) = (0, len(nums) - 1)\n",
    "    print(left, right)\n",
    " \n",
    "    while left <= right:\n",
    " \n",
    "        mid = (left + right) // 2\n",
    " \n",
    "        if target == nums[mid]:\n",
    "            return mid\n",
    " \n",
    "        if nums[mid] <= nums[right]:\n",
    "            if nums[mid] < target <= nums[right]:\n",
    "                left = mid + 1      \n",
    "            else:\n",
    "                right = mid - 1     \n",
    "        else:\n",
    "            if nums[left] <= target < nums[mid]:\n",
    "                right = mid - 1     \n",
    "            else:\n",
    "                left = mid + 1      \n",
    "    return -1\n",
    " \n",
    "if __name__ == '__main__':\n",
    " \n",
    "    nums = [9, 10, 2, 5, 6, 8]\n",
    "    key = 5\n",
    " \n",
    "    index = searchCircularList(nums, key)\n",
    " \n",
    "    if index != -1:\n",
    "        print('Element found at index', index)\n",
    "    else:\n",
    "        print('Element found not in the list')"
   ]
  },
  {
   "cell_type": "code",
   "execution_count": null,
   "id": "b302e54d-6826-4cde-8b78-90d7c88b005c",
   "metadata": {},
   "outputs": [],
   "source": []
  },
  {
   "cell_type": "code",
   "execution_count": null,
   "id": "dfa66f4e-06ec-427f-a74f-9b0b0fd25148",
   "metadata": {},
   "outputs": [],
   "source": []
  }
 ],
 "metadata": {
  "kernelspec": {
   "display_name": "Python 3 (ipykernel)",
   "language": "python",
   "name": "python3"
  },
  "language_info": {
   "codemirror_mode": {
    "name": "ipython",
    "version": 3
   },
   "file_extension": ".py",
   "mimetype": "text/x-python",
   "name": "python",
   "nbconvert_exporter": "python",
   "pygments_lexer": "ipython3",
   "version": "3.10.7"
  }
 },
 "nbformat": 4,
 "nbformat_minor": 5
}
